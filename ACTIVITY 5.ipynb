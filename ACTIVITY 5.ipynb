{
 "cells": [
  {
   "cell_type": "code",
   "execution_count": 2,
   "metadata": {},
   "outputs": [
    {
     "name": "stdout",
     "output_type": "stream",
     "text": [
      "You are senior\n"
     ]
    }
   ],
   "source": [
    "def classify_age(age):\n",
    "    if age < 0:\n",
    "        print (\"Invalid age.\")\n",
    "    elif 0 <= age <= 12:\n",
    "        print (\"You are a child.\")\n",
    "    elif 13 <= age <= 19:\n",
    "        print (\"You ate Teen.\")\n",
    "    elif 20 <= age <= 64:\n",
    "        print (\"Your are Adult.\")\n",
    "    elif age >= 65:\n",
    "        print (\"You are senior\")\n",
    "\n",
    "classify_age(65)"
   ]
  },
  {
   "cell_type": "code",
   "execution_count": null,
   "metadata": {},
   "outputs": [],
   "source": []
  }
 ],
 "metadata": {
  "kernelspec": {
   "display_name": "Python 3 (ipykernel)",
   "language": "python",
   "name": "python3"
  },
  "language_info": {
   "codemirror_mode": {
    "name": "ipython",
    "version": 3
   },
   "file_extension": ".py",
   "mimetype": "text/x-python",
   "name": "python",
   "nbconvert_exporter": "python",
   "pygments_lexer": "ipython3",
   "version": "3.11.0"
  }
 },
 "nbformat": 4,
 "nbformat_minor": 4
}
