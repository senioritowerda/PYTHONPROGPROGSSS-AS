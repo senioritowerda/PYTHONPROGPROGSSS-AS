{
 "cells": [
  {
   "cell_type": "code",
   "execution_count": 10,
   "metadata": {},
   "outputs": [
    {
     "name": "stdout",
     "output_type": "stream",
     "text": [
      "Grade: C\n"
     ]
    }
   ],
   "source": [
    "def assign_grade(score):\n",
    "    if 90 <= score <= 100:\n",
    "        print(\"Grade: A\")\n",
    "    elif 80 <= score <= 89:\n",
    "        print(\"Grade: B\")\n",
    "    elif 70 <= score <= 79:\n",
    "        print(\"Grade: C\")\n",
    "    elif 60 <= score <= 69:\n",
    "        print(\"Grade: D\")\n",
    "    elif 0 <= score < 60:\n",
    "        print(\"Grade: F\")\n",
    "    else:\n",
    "        print(\"Invalid score!\")\n",
    "\n",
    "#dito n'yo na iput yung nais n'yong grade\n",
    "assign_grade(78)"
   ]
  },
  {
   "cell_type": "code",
   "execution_count": null,
   "metadata": {},
   "outputs": [],
   "source": []
  }
 ],
 "metadata": {
  "kernelspec": {
   "display_name": "Python 3 (ipykernel)",
   "language": "python",
   "name": "python3"
  },
  "language_info": {
   "codemirror_mode": {
    "name": "ipython",
    "version": 3
   },
   "file_extension": ".py",
   "mimetype": "text/x-python",
   "name": "python",
   "nbconvert_exporter": "python",
   "pygments_lexer": "ipython3",
   "version": "3.11.0"
  }
 },
 "nbformat": 4,
 "nbformat_minor": 4
}
